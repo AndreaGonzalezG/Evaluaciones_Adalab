{
 "cells": [
  {
   "cell_type": "markdown",
   "metadata": {},
   "source": [
    "# Parte 1: Strings"
   ]
  },
  {
   "cell_type": "markdown",
   "metadata": {},
   "source": [
    "1. Dada una cadena de texto, contar cuántas veces aparece una letra específica en ella. Usa un\n",
    "input para que el usuario elija la letra a buscar.\n",
    "cadena = \"Python es un lenguaje de programación muy popular\""
   ]
  },
  {
   "cell_type": "code",
   "execution_count": 21,
   "metadata": {},
   "outputs": [
    {
     "name": "stdout",
     "output_type": "stream",
     "text": [
      "wow, parece que la letra p  esta 3 veces\n"
     ]
    }
   ],
   "source": [
    "texto=  \" Python es un lenguaje de programación muy popular\"\n",
    "Letra= str(input('Selecciona una letra y comprueba cuantas veces se encuentra en la frase secreta')).lower()\n",
    "\n",
    "\n",
    "print('wow, parece que la letra', Letra,' esta', texto.count(Letra), 'veces')\n"
   ]
  },
  {
   "cell_type": "markdown",
   "metadata": {},
   "source": [
    "2. Escribe un programa que tome la siguiente cadena de texto y reemplace una palabra específica\n",
    "por otra palabra. La palabra a reemplazar y reemplazada deben ser elegidas por el usuario.\n",
    "cadena = \"Python es genial. Python es fácil de aprender.\""
   ]
  },
  {
   "cell_type": "code",
   "execution_count": 57,
   "metadata": {},
   "outputs": [
    {
     "name": "stdout",
     "output_type": "stream",
     "text": [
      " Has seleccionado la palabra:  e  y la quieres reemplazar por: raro\n",
      " Tu nueva frase quedaria:  Python raros graronial. Python raros fácil draro aprrarondraror.\n"
     ]
    }
   ],
   "source": [
    "frase = \"Python es genial. Python es fácil de aprender.\"\n",
    "palabra_old = input(' Escribe una palabra de la siguiente frase que quisieras cambiar. Frase: Python es genial. Python es fácil de aprender').lower()\n",
    "palabra_new= input(' Escribe la palabra por la cual quieres cambiarla:').lower()\n",
    "\n",
    "print(' Has seleccionado la palabra: ', palabra_old,' y la quieres reemplazar por:', palabra_new)\n",
    "\n",
    "\n",
    "print(' Tu nueva frase quedaria: ', frase.replace(palabra_old,palabra_new))"
   ]
  },
  {
   "cell_type": "markdown",
   "metadata": {},
   "source": [
    "3. Toma la siguiente oración y divídela en una lista de palabras. Luego, únelas nuevamente en una\n",
    "sola cadena de texto.\n",
    "oracion = \"Esto es una oración de ejemplo\"\n"
   ]
  },
  {
   "cell_type": "code",
   "execution_count": 56,
   "metadata": {},
   "outputs": [
    {
     "name": "stdout",
     "output_type": "stream",
     "text": [
      " Oracion inciial Esto es una oración de ejemplo\n",
      "Palabras en lista ['Esto', 'es', 'una', 'oración', 'de', 'ejemplo']\n",
      "Oracion nuevamente unida Esto es una oración de ejemplo\n"
     ]
    }
   ],
   "source": [
    "oracion = \"Esto es una oración de ejemplo\"\n",
    "print(' Oracion inciial', oracion)\n",
    "\n",
    "palabras_lista= oracion.split()\n",
    "print ('Palabras en lista', palabras_lista)\n",
    "\n",
    "oracion2= ' '.join(palabras_lista)\n",
    "print('Oracion nuevamente unida', oracion2)\n"
   ]
  },
  {
   "cell_type": "markdown",
   "metadata": {},
   "source": [
    "4. Desarrolla un programa que cuente cuántas palabras hay en la siguiente frase.\n",
    "cadena = \"Esta es una cadena con cinco palabras\"\n"
   ]
  },
  {
   "cell_type": "code",
   "execution_count": 53,
   "metadata": {},
   "outputs": [
    {
     "name": "stdout",
     "output_type": "stream",
     "text": [
      " La frase inicial es Esta es una cadena con cinco palabras\n",
      " La cadena en forma lista es: ['Esta', 'es', 'una', 'cadena', 'con', 'cinco', 'palabras']\n"
     ]
    },
    {
     "data": {
      "text/plain": [
       "7"
      ]
     },
     "execution_count": 53,
     "metadata": {},
     "output_type": "execute_result"
    }
   ],
   "source": [
    "cadena = \"Esta es una cadena con cinco palabras\"\n",
    " \n",
    "cadena2= (cadena.split())\n",
    "\n",
    "\n",
    "\n",
    "print(' La frase inicial es', cadena)\n",
    "\n",
    "print (' La cadena en forma lista es:', cadena2)\n",
    "\n",
    "longitud=len(cadena2)\n",
    "longitud"
   ]
  },
  {
   "cell_type": "markdown",
   "metadata": {},
   "source": [
    "5. Escribe un programa que invierta una cadena de texto dada por un usuario. Mira el siguiente\n",
    "ejemplo para entender lo que se pide:\n",
    "# input\n",
    "\"Hola buenos dias\"\n",
    "# output\n",
    "\"dias buenos Hola"
   ]
  },
  {
   "cell_type": "code",
   "execution_count": 79,
   "metadata": {},
   "outputs": [
    {
     "name": "stdout",
     "output_type": "stream",
     "text": [
      "estoy lista\n",
      " La nueva frase es: ['lista', 'estoy']\n"
     ]
    }
   ],
   "source": [
    "cadena_usuario= input('Escribe una frase y veamos como se reorganiza:') \n",
    "\n",
    "print (cadena_usuario) \n",
    "cadenausuario4= cadena_usuario.split()\n",
    "cadenausuario4.reverse()\n",
    "\n",
    "print (' La nueva frase es:', str(cadenausuario4))"
   ]
  },
  {
   "cell_type": "markdown",
   "metadata": {},
   "source": [
    "6.  Crea un programa que busque una palabra específica(elegida por la usuaria) en una cadena de\n",
    "texto e indique su posición."
   ]
  },
  {
   "cell_type": "code",
   "execution_count": 84,
   "metadata": {},
   "outputs": [
    {
     "name": "stdout",
     "output_type": "stream",
     "text": [
      "Tu palabra esta en la posición: 1\n"
     ]
    }
   ],
   "source": [
    "palabra_usuario= input('De la frase: Python es un lenguaje de programación muy popular, selecciona una palabra para conocer su posición') \n",
    "\n",
    "frase_lista= ['Python','es', 'un','lenguaje', 'de', 'programación','muy','popular']\n",
    "\n",
    "print ('Tu palabra esta en la posición:',frase_lista.index(palabra_usuario))"
   ]
  },
  {
   "cell_type": "markdown",
   "metadata": {},
   "source": [
    "Parte 2: Listas\n",
    "1. Dada la siguiente lista: frutas = ['manzana', 'pera', 'banana', 'uva', 'kiwi'], realiza\n",
    "lo siguiente:\n",
    "a) Reemplaza el segundo elemento con 'durazno'.\n",
    "b) Agrega 'naranja' al final de la lista.\n",
    "c) Extrae y muestra por pantalla el tercer elemento de la lista."
   ]
  },
  {
   "cell_type": "code",
   "execution_count": 86,
   "metadata": {},
   "outputs": [
    {
     "name": "stdout",
     "output_type": "stream",
     "text": [
      "Lista original:  ['manzana', 'pera', 'banana', 'uva', 'kiwi']\n",
      "Nueva lista reemplazando por durazno:  ['manzana', 'durazno', 'banana', 'uva', 'kiwi']\n",
      " Lista agregando nuevo elemento al final: ['manzana', 'durazno', 'banana', 'uva', 'kiwi', 'naranja']\n",
      " El tercer elemento de la lista es:  banana\n"
     ]
    }
   ],
   "source": [
    "frutas = ['manzana', 'pera', 'banana', 'uva', 'kiwi']\n",
    "\n",
    "print ('Lista original: ', frutas)\n",
    "\n",
    "# lista  eemplazando el segundo elemento con 'durazno'.\n",
    "frutas[1]= 'durazno'\n",
    "print('Nueva lista reemplazando por durazno: ', frutas)\n",
    "\n",
    "# b) Agrega 'naranja' al final de la lista.\n",
    "frutas.append('naranja')\n",
    "print(' Lista agregando nuevo elemento al final:', frutas)\n",
    "\n",
    "#Extrae y muestra por pantalla el tercer elemento de la lista.\n",
    "print(' El tercer elemento de la lista es: ',frutas[2])"
   ]
  },
  {
   "cell_type": "markdown",
   "metadata": {},
   "source": [
    "2. Crea una lista llamada numeros que contenga los siguientes valores: 10, 25, 15, 30, 20.\n",
    "3. Agrega el valor 35 al incio de la lista numeros.\n",
    "4. Ordena la lista numeros en orden ascendente."
   ]
  },
  {
   "cell_type": "code",
   "execution_count": 87,
   "metadata": {},
   "outputs": [
    {
     "name": "stdout",
     "output_type": "stream",
     "text": [
      "Lista original:  [10, 25, 15, 30, 20]\n",
      " Lista con nuevo elemento: [35, 10, 25, 15, 30, 20]\n",
      "La lista ordenada de ascendente a descendente es: [35, 30, 25, 20, 15, 10]\n"
     ]
    }
   ],
   "source": [
    "# crear lista\n",
    "numeros= [ 10, 25, 15, 30, 20]\n",
    "print ('Lista original: ', numeros)\n",
    "\n",
    "# agregar objetos\n",
    "numeros.insert(0,35)\n",
    "print (' Lista con nuevo elemento:', numeros)\n",
    "\n",
    "#orden ascendente\n",
    "numeros.sort(reverse=True)\\\n",
    "\n",
    "print('La lista ordenada de ascendente a descendente es:', numeros)"
   ]
  },
  {
   "cell_type": "markdown",
   "metadata": {},
   "source": [
    "5. Dada la siguiente lista numeros2 = [45, 22, 19, 38, 29]. Crea una nueva lista llamada\n",
    "numeros3 donde tengamos la unión de los todos los elementos de las dos listas (numeros y\n",
    "numeros2) de tal forma que el resultado final sea:\n",
    "numeros3 = [10, 25, 15, 30, 20, 45, 22, 19, 38, 29]"
   ]
  },
  {
   "cell_type": "code",
   "execution_count": 88,
   "metadata": {},
   "outputs": [
    {
     "name": "stdout",
     "output_type": "stream",
     "text": [
      " Lista numero 3 es igual: [35, 30, 25, 20, 15, 10, 45, 22, 19, 38, 29]\n"
     ]
    }
   ],
   "source": [
    "numeros2 = [45, 22, 19, 38, 29] \n",
    "numeros3= numeros+ numeros2\n",
    "\n",
    "print(' Lista numero 3 es igual:', numeros3)"
   ]
  },
  {
   "cell_type": "markdown",
   "metadata": {},
   "source": [
    "6. Elimina el último elemento de la lista numeros3.\n",
    "7. Elimina el número 30 de la lista numeros3."
   ]
  },
  {
   "cell_type": "code",
   "execution_count": 90,
   "metadata": {},
   "outputs": [
    {
     "name": "stdout",
     "output_type": "stream",
     "text": [
      " Lista eliminando ultimo valor seria: [35, 30, 25, 20, 15, 10, 45, 22, 19, 38]\n",
      " Lista eliminando el \"30\": [35, 25, 20, 15, 10, 45, 22, 19, 38]\n"
     ]
    }
   ],
   "source": [
    "# eliminacion utimo elemento \n",
    "\n",
    "numeros3.pop()\n",
    "print(' Lista eliminando ultimo valor seria:', numeros3)\n",
    "\n",
    "# elimina 30\n",
    "numeros3.remove(30)\n",
    "print(' Lista eliminando el \"30\":', numeros3)\n"
   ]
  },
  {
   "cell_type": "markdown",
   "metadata": {},
   "source": [
    "Parte 3: Tuplas\n",
    "1. Crea una tupla llamada colores que contenga los siguientes valores: 'rojo', 'verde', 'azul',\n",
    "'amarillo', 'morado'.\n",
    "2. Encuentra el índice de 'verde' en la tupla colores.\n",
    "3. ¿Cuántas veces aparece 'azul' en la tupla colores?\n"
   ]
  },
  {
   "cell_type": "code",
   "execution_count": 91,
   "metadata": {},
   "outputs": [
    {
     "name": "stdout",
     "output_type": "stream",
     "text": [
      " Indice de verde es: 1\n",
      " azul aparece:  1\n"
     ]
    }
   ],
   "source": [
    "colores=('rojo', 'verde', 'azul', 'amarillo', 'morado')\n",
    "\n",
    "#indice verde\n",
    "print(' Indice de verde es:',colores.index('verde') )\n",
    "\n",
    "# veces que aparece azul\n",
    "print( ' azul aparece: ', colores.count('azul'))\n"
   ]
  },
  {
   "cell_type": "markdown",
   "metadata": {},
   "source": [
    "4. Añade el color \"morado\" a la tupla colores. ¿Qué ha pasado? ¿Por qué? Como podríamos\n",
    "añadir el elemento \"morado\"."
   ]
  },
  {
   "cell_type": "code",
   "execution_count": 99,
   "metadata": {},
   "outputs": [
    {
     "name": "stdout",
     "output_type": "stream",
     "text": [
      " Para añadir nuevos elementos a la tupla debemos convertirla en lista. Y añadimos el nuevo elemento: None\n"
     ]
    }
   ],
   "source": [
    "lista_colores= list(colores)\n",
    "lista_colores.append('morado')\n",
    "\n"
   ]
  },
  {
   "cell_type": "code",
   "execution_count": 102,
   "metadata": {},
   "outputs": [
    {
     "name": "stdout",
     "output_type": "stream",
     "text": [
      " Para añadir nuevos elementos a la tupla debemos convertirla en lista. Y añadimos el nuevo elemento: ['rojo', 'verde', 'azul', 'amarillo', 'morado']\n",
      " La nueva tupla es: ('rojo', 'verde', 'azul', 'amarillo', 'morado')\n"
     ]
    }
   ],
   "source": [
    "print (' Para añadir nuevos elementos a la tupla debemos convertirla en lista. Y añadimos el nuevo elemento:', lista_colores)\n",
    "tupla=tuple(lista_colores)\n",
    "print(' La nueva tupla es:', tupla)"
   ]
  },
  {
   "cell_type": "markdown",
   "metadata": {},
   "source": [
    "Parte 4: Diccionarios\n",
    "1. Crea un diccionario llamado frutas con las siguientes parejas clave-valor:\n",
    "o 'manzana': 2\n",
    "o 'banana': 3\n",
    "o 'uva': 5\n",
    "o 'pera': 4\n",
    "\n",
    "2. Saca una lista de todas las frutas en el diccionario.\n",
    "3. Saca una lista de todas las cantidades en el diccionario."
   ]
  },
  {
   "cell_type": "code",
   "execution_count": 103,
   "metadata": {},
   "outputs": [
    {
     "name": "stdout",
     "output_type": "stream",
     "text": [
      "las frutas son: dict_keys(['manzana', 'banana', 'uva', 'pera'])\n",
      " Las cantidades son: dict_values([2, 3, 5, 4])\n"
     ]
    }
   ],
   "source": [
    "frutas= {'manzana': 2, 'banana': 3, 'uva': 5, 'pera': 4}\n",
    "\n",
    "# frutas del diccionario o keys\n",
    "\n",
    "print ('las frutas son:', frutas.keys())\n",
    "\n",
    "\n",
    "# valores o values\n",
    "print (' Las cantidades son:', frutas.values())"
   ]
  },
  {
   "cell_type": "markdown",
   "metadata": {},
   "source": [
    "4. ¿Qué cantidad de 'manzana' tenemos?. Si la clave 'manzana' no está presente, devuelve un\n",
    "mensaje diciendo \"No existe esa clave\"."
   ]
  },
  {
   "cell_type": "code",
   "execution_count": 105,
   "metadata": {},
   "outputs": [
    {
     "name": "stdout",
     "output_type": "stream",
     "text": [
      " cuantas manzanas tenemos: 2\n"
     ]
    }
   ],
   "source": [
    "'manzana' in frutas\n",
    "print (' cuantas manzanas tenemos:',frutas ['manzana'])"
   ]
  },
  {
   "cell_type": "markdown",
   "metadata": {},
   "source": [
    "5.Agrega un nuevo par de clave-valor al diccionario frutas: 'kiwi' con una cantidad de 6.\n",
    "\n",
    "6. Cambia la cantidad de 'uva' a 8."
   ]
  },
  {
   "cell_type": "code",
   "execution_count": 110,
   "metadata": {},
   "outputs": [
    {
     "name": "stdout",
     "output_type": "stream",
     "text": [
      " Lista actualizada:  {'manzana': 2, 'banana': 3, 'uva': 5, 'pera': 4, 'kiwi': 6}\n",
      " Lista actualizada:  {'manzana': 2, 'banana': 3, 'uva': 8, 'pera': 4, 'kiwi': 6}\n"
     ]
    }
   ],
   "source": [
    "frutas.update ({'kiwi':6})\n",
    "# nueva clave-valor\n",
    "print (' Lista actualizada: ', frutas)\n",
    "\n",
    "# cambio de valor 8\n",
    "\n",
    "frutas['uva']=8\n",
    "# nueva clave-valor\n",
    "print (' Lista actualizada: ', frutas)\n"
   ]
  },
  {
   "cell_type": "markdown",
   "metadata": {},
   "source": [
    "7.Crea un segundo diccionario llamado frutas_nuevas con las siguientes parejas clave-valor:\n",
    "o 'sandía': 7\n",
    "o 'mango': 4\n",
    "\n",
    "8. Combinar los dos diccionarios frutas_nuevas y frutas en uno nuevos llamado frutas_total.\n",
    "\n",
    "9. Elimina el último par de clave-valor del diccionario fruta_total."
   ]
  },
  {
   "cell_type": "code",
   "execution_count": 126,
   "metadata": {},
   "outputs": [
    {
     "name": "stdout",
     "output_type": "stream",
     "text": [
      " Nuevo diccionario es:  {'manzana': 2, 'banana': 3, 'uva': 8, 'pera': 4, 'kiwi': 6, 'sandía': 7, 'mango': 4}\n",
      "Nuevo diccionario despues de eliminación; {'manzana': 2, 'banana': 3, 'uva': 8, 'pera': 4, 'kiwi': 6, 'sandía': 7}\n"
     ]
    }
   ],
   "source": [
    "frutas_nuevas= {'sandía': 7, 'mango': 4}\n",
    "frutas_totales=frutas.copy()\n",
    "print (' Nuevo diccionario es: ', frutas_totales)\n",
    "\n",
    "# Eliminacion clave\n",
    "frutas_totales.pop('mango')\n",
    "\n",
    "print ('Nuevo diccionario despues de eliminación;', frutas_totales)\n",
    "\n"
   ]
  },
  {
   "cell_type": "markdown",
   "metadata": {},
   "source": [
    "10. Elimina el par de clave-valor correspondiente a la clave 'uva' del diccionario.\n",
    "11. Agregar la fruta 'manzana' con una cantidad de 10 al diccionario. Si ya existe, no se realizarán\n",
    "cambios en los valores que teníamos."
   ]
  },
  {
   "cell_type": "code",
   "execution_count": 127,
   "metadata": {},
   "outputs": [
    {
     "name": "stdout",
     "output_type": "stream",
     "text": [
      "Nuevo diccionario después de eliminación de uva es; {'manzana': 2, 'banana': 3, 'pera': 4, 'kiwi': 6, 'sandía': 7}\n",
      "Nuevo diccionario después de adcion de manzanas es; {'manzana': 10, 'banana': 3, 'pera': 4, 'kiwi': 6, 'sandía': 7}\n"
     ]
    }
   ],
   "source": [
    "# Eliminacion clave uva\n",
    "frutas_totales.pop('uva')\n",
    "\n",
    "print ('Nuevo diccionario después de eliminación de uva es;', frutas_totales)\n",
    "\n",
    "# actualizacion manzana =10\n",
    "frutas_totales.update({'manzana':10})\n",
    "\n",
    "print ('Nuevo diccionario después de adcion de manzanas es;', frutas_totales)\n"
   ]
  },
  {
   "cell_type": "markdown",
   "metadata": {},
   "source": [
    "12. Combinar métodos de listas y diccionarios:\n",
    "o Obtén una lista de todas las cantidades en el diccionario y calcula suma total de las\n",
    "cantidades del diccionario frutas_total.\n",
    "o Utilizando la lista creada en el apartado anterior encuentra la cantidad más grande y\n",
    "más pequeña."
   ]
  },
  {
   "cell_type": "code",
   "execution_count": 130,
   "metadata": {},
   "outputs": [],
   "source": [
    "lista_frutastotales= list(frutas_totales)\n"
   ]
  },
  {
   "cell_type": "code",
   "execution_count": 141,
   "metadata": {},
   "outputs": [
    {
     "name": "stdout",
     "output_type": "stream",
     "text": [
      "[10, 3, 4, 6, 7]\n",
      "suma de valores: 30\n",
      " valor minimo 3\n",
      " valor mas grande 10\n"
     ]
    }
   ],
   "source": [
    "valores= frutas_totales.values()\n",
    "Lista_valores= list(valores)\n",
    "\n",
    "print(Lista_valores)\n",
    "\n",
    "Suma_valores= 10 +3 + 4+6 +7\n",
    "print ('suma de valores:', Suma_valores)\n",
    "\n",
    "print(' valor minimo',min(Lista_valores))\n",
    "print (' valor mas grande', max(Lista_valores))\n",
    "\n",
    "\n",
    "\n",
    "\n"
   ]
  },
  {
   "cell_type": "markdown",
   "metadata": {},
   "source": [
    "Parte 5: Métodos de Sets\n",
    "\n",
    "13. Crea un set llamado conjunto1 con los números del 1 al 5.\n",
    "\n",
    "14. Crea otro set llamado conjunto2 con los números del 4 al 8.\n",
    "\n",
    "15. Obtén la unión de conjunto1 y conjunto2.\n",
    "\n",
    "16. Obtén la intersección de conjunto1 y conjunto2.\n",
    "\n",
    "17. Obtén los elementos que están en conjunto1 pero no en el conjunto2."
   ]
  },
  {
   "cell_type": "code",
   "execution_count": 142,
   "metadata": {},
   "outputs": [
    {
     "name": "stdout",
     "output_type": "stream",
     "text": [
      "Union: {1, 2, 3, 4, 5, 6, 7, 8, 9, 10, 11, 12, 13, 14, 15}\n",
      " Interseccion: {4, 5, 6, 7, 8}\n",
      " Elementos que estan en uno pero no en el otro:  {1, 2, 3, 9, 10, 11, 12, 13, 14, 15}\n"
     ]
    }
   ],
   "source": [
    "conjunto1= {1,2,3,4,5,6,7,8,9,10,11,12,13,14,15}\n",
    "conjunto2= {4,5,6,7,8}\n",
    "\n",
    "# union \n",
    "print('Union:', conjunto1.union(conjunto2))\n",
    "\n",
    "# interseccion \n",
    "print(' Interseccion:', conjunto1.intersection(conjunto2))\n",
    "\n",
    "# simmetric difference\n",
    "\n",
    "print (' Elementos que estan en uno pero no en el otro: ', conjunto1.symmetric_difference(conjunto2))\n",
    "\n",
    "\n"
   ]
  },
  {
   "cell_type": "markdown",
   "metadata": {},
   "source": [
    "Parte 6: Sentencias de Control\n",
    "- Ejercicio 1: Evaluación de Edades:\n",
    "o Escribe un programa que solicite al usuario ingresar su edad.\n",
    "o Si la edad es menor de 18, muestra \"Eres menor de edad\".\n",
    "o Si la edad está entre 18 y 65 (incluyendo ambos extremos), muestra \"Eres adulto\".\n",
    "o Si la edad es mayor que 65, muestra \"Eres un adulto mayor\"."
   ]
  },
  {
   "cell_type": "code",
   "execution_count": 153,
   "metadata": {},
   "outputs": [
    {
     "name": "stdout",
     "output_type": "stream",
     "text": [
      "Eres menor de edad\n"
     ]
    }
   ],
   "source": [
    "edad_usuario= int(input(' Ingresa tu edad:' ))\n",
    "\n",
    "if edad_usuario> 65:\n",
    "    print(\"Eres un adulto mayor\")\n",
    "elif edad_usuario< 18: \n",
    "        print(\"Eres menor de edad\")\n",
    "elif 18 >= edad_usuario <= 65:\n",
    "        print( \"Eres adulto\") \n",
    "       \n",
    "else: \n",
    "    print(' Eres menor de edad')"
   ]
  },
  {
   "cell_type": "markdown",
   "metadata": {},
   "source": [
    "- Ejercicio 2: Determinación de Día de la Semana\n",
    "o Solicita al usuario que ingrese un número del 1 al 7.\n",
    "o Utilizando una serie de if-elif-else, muestra el día de la semana correspondiente al\n",
    "número ingresado. Por ejemplo, si ingresa 1, muestra \"Lunes\""
   ]
  },
  {
   "cell_type": "code",
   "execution_count": 156,
   "metadata": {},
   "outputs": [
    {
     "name": "stdout",
     "output_type": "stream",
     "text": [
      " Dia Lunes\n"
     ]
    }
   ],
   "source": [
    "dia_semana= int(input(' Ingresa dia de la semana del 1 al 7, siendo 1=lunes' ))\n",
    "\n",
    "if dia_semana== 1:\n",
    "    print(' Dia Lunes')\n",
    "elif dia_semana == 2:\n",
    "    print(' Dia Martes')\n",
    "elif dia_semana == 3:\n",
    "    print(' Dia Miercoles')\n",
    "elif dia_semana == 4:\n",
    "    print(' Dia Jueves')\n",
    "elif dia_semana == 5:\n",
    "    print(' Dia Viernes')\n",
    "elif dia_semana == 6:\n",
    "    print(' Dia Sabado')\n",
    "elif dia_semana == 7:\n",
    "    print(' Dia Domingo')\n",
    "else: \n",
    "    print (' No seleccionaste ningún día')"
   ]
  },
  {
   "cell_type": "markdown",
   "metadata": {},
   "source": [
    "- Ejercicio 3: Juego de Adivinanza\n",
    "o Genera un número aleatorio entre 1 y 100.\n",
    "o Pídele al usuario que adivine el número.\n",
    "o Si el usuario adivina correctamente en el primer intento, muestra \"¡Ganaste en el primer\n",
    "intento!\".\n",
    "o Si el usuario no adivina en el primer intento, bríndale pistas (mayor o menor) y permite\n",
    "que intente nuevamente. Muestra cuántos intentos le llevó al final."
   ]
  },
  {
   "cell_type": "code",
   "execution_count": 157,
   "metadata": {},
   "outputs": [],
   "source": [
    "import random\n",
    "\n",
    "numero_aleatorio = random.randint(1, 10)\n",
    "\n",
    "contador_juegos = 0\n",
    "\n",
    "adivinanza= int(input(' Adivina un numero del 1 al 100. Escribe el numero' ))\n",
    "\n",
    "while contador_juegos==2:\n",
    "    if adivinanza == numero_aleatorio:\n",
    "        print (\"¡Ganaste en el primer intento!\")\n",
    "    elif 1<= numero_aleatorio < 20:\n",
    "     print (\" el numero esta entre 1 y 20\")\n",
    "    elif 20>= numero_aleatorio <= 50 :\n",
    "       print (\" el numero esta entre 20 y 50\")\n",
    "    elif 50> numero_aleatorio <= 100 :\n",
    "       print (\" el numero esta entre 50 y 100\")\n",
    "    else: \n",
    "       print ('vuelve a intentar')\n",
    "    contador_juegos += 1"
   ]
  }
 ],
 "metadata": {
  "kernelspec": {
   "display_name": "base",
   "language": "python",
   "name": "python3"
  },
  "language_info": {
   "codemirror_mode": {
    "name": "ipython",
    "version": 3
   },
   "file_extension": ".py",
   "mimetype": "text/x-python",
   "name": "python",
   "nbconvert_exporter": "python",
   "pygments_lexer": "ipython3",
   "version": "3.12.4"
  }
 },
 "nbformat": 4,
 "nbformat_minor": 2
}
